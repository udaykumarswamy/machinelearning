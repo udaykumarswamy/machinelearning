{
 "cells": [
  {
   "cell_type": "code",
   "execution_count": null,
   "id": "1a1c0938",
   "metadata": {},
   "outputs": [],
   "source": [
    "'''\n",
    "here we will be analysing the horses health using the decison tree , random forest tree and\n",
    "compare the accuracy matrix of the both models\n",
    "For Descion Tress and random Forest we dont need to do standadisation \n",
    "that is checking outliers, distribution, co-leaniarty is there or not\n",
    "'''"
   ]
  },
  {
   "cell_type": "code",
   "execution_count": 32,
   "id": "53b303c0",
   "metadata": {},
   "outputs": [],
   "source": [
    "import pandas as pd\n",
    "import numpy as np\n",
    "import seaborn as sns\n",
    "import warnings\n",
    "import matplotlib.pyplot as plt\n",
    "from sklearn.metrics import accuracy_score,f1_score,recall_score\n",
    "from sklearn.tree import DecisionTreeClassifier\n",
    "from sklearn.ensemble import RandomForestClassifier\n",
    "from sklearn.impute import SimpleImputer\n",
    "from sklearn.preprocessing import LabelEncoder\n",
    "from sklearn.compose import ColumnTransformer\n",
    "from sklearn.model_selection import train_test_split\n",
    "warnings.filterwarnings('ignore')\n"
   ]
  },
  {
   "cell_type": "code",
   "execution_count": 6,
   "id": "d5223066",
   "metadata": {},
   "outputs": [],
   "source": [
    "horseDataFrame = pd.read_csv('/Users/uday_kumar_swamy/Library/CloudStorage/OneDrive-Personal/datascience_videos/machinelearningpractice/machinelearning/dataset/horse.csv')"
   ]
  },
  {
   "cell_type": "code",
   "execution_count": 7,
   "id": "1d12007e",
   "metadata": {},
   "outputs": [
    {
     "data": {
      "text/plain": [
       "(299, 28)"
      ]
     },
     "execution_count": 7,
     "metadata": {},
     "output_type": "execute_result"
    }
   ],
   "source": [
    "#lets check the shape of the dataframe\n",
    "horseDataFrame.shape"
   ]
  },
  {
   "cell_type": "code",
   "execution_count": 8,
   "id": "4d3b2212",
   "metadata": {},
   "outputs": [
    {
     "name": "stdout",
     "output_type": "stream",
     "text": [
      "<class 'pandas.core.frame.DataFrame'>\n",
      "RangeIndex: 299 entries, 0 to 298\n",
      "Data columns (total 28 columns):\n",
      " #   Column                 Non-Null Count  Dtype  \n",
      "---  ------                 --------------  -----  \n",
      " 0   surgery                299 non-null    object \n",
      " 1   age                    299 non-null    object \n",
      " 2   hospital_number        299 non-null    int64  \n",
      " 3   rectal_temp            239 non-null    float64\n",
      " 4   pulse                  275 non-null    float64\n",
      " 5   respiratory_rate       241 non-null    float64\n",
      " 6   temp_of_extremities    243 non-null    object \n",
      " 7   peripheral_pulse       230 non-null    object \n",
      " 8   mucous_membrane        252 non-null    object \n",
      " 9   capillary_refill_time  267 non-null    object \n",
      " 10  pain                   244 non-null    object \n",
      " 11  peristalsis            255 non-null    object \n",
      " 12  abdominal_distention   243 non-null    object \n",
      " 13  nasogastric_tube       195 non-null    object \n",
      " 14  nasogastric_reflux     193 non-null    object \n",
      " 15  nasogastric_reflux_ph  53 non-null     float64\n",
      " 16  rectal_exam_feces      197 non-null    object \n",
      " 17  abdomen                181 non-null    object \n",
      " 18  packed_cell_volume     270 non-null    float64\n",
      " 19  total_protein          266 non-null    float64\n",
      " 20  abdomo_appearance      134 non-null    object \n",
      " 21  abdomo_protein         101 non-null    float64\n",
      " 22  outcome                299 non-null    object \n",
      " 23  surgical_lesion        299 non-null    object \n",
      " 24  lesion_1               299 non-null    int64  \n",
      " 25  lesion_2               299 non-null    int64  \n",
      " 26  lesion_3               299 non-null    int64  \n",
      " 27  cp_data                299 non-null    object \n",
      "dtypes: float64(7), int64(4), object(17)\n",
      "memory usage: 65.5+ KB\n"
     ]
    }
   ],
   "source": [
    "#now lets check the inforation about the dataframe\n",
    "horseDataFrame.info()"
   ]
  },
  {
   "cell_type": "code",
   "execution_count": 14,
   "id": "b9613610",
   "metadata": {},
   "outputs": [
    {
     "data": {
      "text/plain": [
       "lived         0.595318\n",
       "died          0.257525\n",
       "euthanized    0.147157\n",
       "Name: outcome, dtype: float64"
      ]
     },
     "execution_count": 14,
     "metadata": {},
     "output_type": "execute_result"
    }
   ],
   "source": [
    "#now lets check the outcome unique values for the imbalence\n",
    "#data seems evenly distributed\n",
    "#normalize=True --> will give the percentage instade of the absolute value\n",
    "#it is multi-class classification --> have multiple target variables\n",
    "horseDataFrame.outcome.value_counts(normalize=True)"
   ]
  },
  {
   "cell_type": "code",
   "execution_count": 10,
   "id": "11f1d1a4",
   "metadata": {},
   "outputs": [
    {
     "data": {
      "text/html": [
       "<div>\n",
       "<style scoped>\n",
       "    .dataframe tbody tr th:only-of-type {\n",
       "        vertical-align: middle;\n",
       "    }\n",
       "\n",
       "    .dataframe tbody tr th {\n",
       "        vertical-align: top;\n",
       "    }\n",
       "\n",
       "    .dataframe thead th {\n",
       "        text-align: right;\n",
       "    }\n",
       "</style>\n",
       "<table border=\"1\" class=\"dataframe\">\n",
       "  <thead>\n",
       "    <tr style=\"text-align: right;\">\n",
       "      <th></th>\n",
       "      <th>surgery</th>\n",
       "      <th>age</th>\n",
       "      <th>hospital_number</th>\n",
       "      <th>rectal_temp</th>\n",
       "      <th>pulse</th>\n",
       "      <th>respiratory_rate</th>\n",
       "      <th>temp_of_extremities</th>\n",
       "      <th>peripheral_pulse</th>\n",
       "      <th>mucous_membrane</th>\n",
       "      <th>capillary_refill_time</th>\n",
       "      <th>...</th>\n",
       "      <th>packed_cell_volume</th>\n",
       "      <th>total_protein</th>\n",
       "      <th>abdomo_appearance</th>\n",
       "      <th>abdomo_protein</th>\n",
       "      <th>outcome</th>\n",
       "      <th>surgical_lesion</th>\n",
       "      <th>lesion_1</th>\n",
       "      <th>lesion_2</th>\n",
       "      <th>lesion_3</th>\n",
       "      <th>cp_data</th>\n",
       "    </tr>\n",
       "  </thead>\n",
       "  <tbody>\n",
       "    <tr>\n",
       "      <th>0</th>\n",
       "      <td>no</td>\n",
       "      <td>adult</td>\n",
       "      <td>530101</td>\n",
       "      <td>38.5</td>\n",
       "      <td>66.0</td>\n",
       "      <td>28.0</td>\n",
       "      <td>cool</td>\n",
       "      <td>reduced</td>\n",
       "      <td>NaN</td>\n",
       "      <td>more_3_sec</td>\n",
       "      <td>...</td>\n",
       "      <td>45.0</td>\n",
       "      <td>8.4</td>\n",
       "      <td>NaN</td>\n",
       "      <td>NaN</td>\n",
       "      <td>died</td>\n",
       "      <td>no</td>\n",
       "      <td>11300</td>\n",
       "      <td>0</td>\n",
       "      <td>0</td>\n",
       "      <td>no</td>\n",
       "    </tr>\n",
       "    <tr>\n",
       "      <th>1</th>\n",
       "      <td>yes</td>\n",
       "      <td>adult</td>\n",
       "      <td>534817</td>\n",
       "      <td>39.2</td>\n",
       "      <td>88.0</td>\n",
       "      <td>20.0</td>\n",
       "      <td>NaN</td>\n",
       "      <td>NaN</td>\n",
       "      <td>pale_cyanotic</td>\n",
       "      <td>less_3_sec</td>\n",
       "      <td>...</td>\n",
       "      <td>50.0</td>\n",
       "      <td>85.0</td>\n",
       "      <td>cloudy</td>\n",
       "      <td>2.0</td>\n",
       "      <td>euthanized</td>\n",
       "      <td>no</td>\n",
       "      <td>2208</td>\n",
       "      <td>0</td>\n",
       "      <td>0</td>\n",
       "      <td>no</td>\n",
       "    </tr>\n",
       "    <tr>\n",
       "      <th>2</th>\n",
       "      <td>no</td>\n",
       "      <td>adult</td>\n",
       "      <td>530334</td>\n",
       "      <td>38.3</td>\n",
       "      <td>40.0</td>\n",
       "      <td>24.0</td>\n",
       "      <td>normal</td>\n",
       "      <td>normal</td>\n",
       "      <td>pale_pink</td>\n",
       "      <td>less_3_sec</td>\n",
       "      <td>...</td>\n",
       "      <td>33.0</td>\n",
       "      <td>6.7</td>\n",
       "      <td>NaN</td>\n",
       "      <td>NaN</td>\n",
       "      <td>lived</td>\n",
       "      <td>no</td>\n",
       "      <td>0</td>\n",
       "      <td>0</td>\n",
       "      <td>0</td>\n",
       "      <td>yes</td>\n",
       "    </tr>\n",
       "    <tr>\n",
       "      <th>3</th>\n",
       "      <td>yes</td>\n",
       "      <td>young</td>\n",
       "      <td>5290409</td>\n",
       "      <td>39.1</td>\n",
       "      <td>164.0</td>\n",
       "      <td>84.0</td>\n",
       "      <td>cold</td>\n",
       "      <td>normal</td>\n",
       "      <td>dark_cyanotic</td>\n",
       "      <td>more_3_sec</td>\n",
       "      <td>...</td>\n",
       "      <td>48.0</td>\n",
       "      <td>7.2</td>\n",
       "      <td>serosanguious</td>\n",
       "      <td>5.3</td>\n",
       "      <td>died</td>\n",
       "      <td>yes</td>\n",
       "      <td>2208</td>\n",
       "      <td>0</td>\n",
       "      <td>0</td>\n",
       "      <td>yes</td>\n",
       "    </tr>\n",
       "    <tr>\n",
       "      <th>4</th>\n",
       "      <td>no</td>\n",
       "      <td>adult</td>\n",
       "      <td>530255</td>\n",
       "      <td>37.3</td>\n",
       "      <td>104.0</td>\n",
       "      <td>35.0</td>\n",
       "      <td>NaN</td>\n",
       "      <td>NaN</td>\n",
       "      <td>dark_cyanotic</td>\n",
       "      <td>more_3_sec</td>\n",
       "      <td>...</td>\n",
       "      <td>74.0</td>\n",
       "      <td>7.4</td>\n",
       "      <td>NaN</td>\n",
       "      <td>NaN</td>\n",
       "      <td>died</td>\n",
       "      <td>no</td>\n",
       "      <td>4300</td>\n",
       "      <td>0</td>\n",
       "      <td>0</td>\n",
       "      <td>no</td>\n",
       "    </tr>\n",
       "  </tbody>\n",
       "</table>\n",
       "<p>5 rows × 28 columns</p>\n",
       "</div>"
      ],
      "text/plain": [
       "  surgery    age  hospital_number  rectal_temp  pulse  respiratory_rate  \\\n",
       "0      no  adult           530101         38.5   66.0              28.0   \n",
       "1     yes  adult           534817         39.2   88.0              20.0   \n",
       "2      no  adult           530334         38.3   40.0              24.0   \n",
       "3     yes  young          5290409         39.1  164.0              84.0   \n",
       "4      no  adult           530255         37.3  104.0              35.0   \n",
       "\n",
       "  temp_of_extremities peripheral_pulse mucous_membrane capillary_refill_time  \\\n",
       "0                cool          reduced             NaN            more_3_sec   \n",
       "1                 NaN              NaN   pale_cyanotic            less_3_sec   \n",
       "2              normal           normal       pale_pink            less_3_sec   \n",
       "3                cold           normal   dark_cyanotic            more_3_sec   \n",
       "4                 NaN              NaN   dark_cyanotic            more_3_sec   \n",
       "\n",
       "   ... packed_cell_volume total_protein abdomo_appearance abdomo_protein  \\\n",
       "0  ...               45.0           8.4               NaN            NaN   \n",
       "1  ...               50.0          85.0            cloudy            2.0   \n",
       "2  ...               33.0           6.7               NaN            NaN   \n",
       "3  ...               48.0           7.2     serosanguious            5.3   \n",
       "4  ...               74.0           7.4               NaN            NaN   \n",
       "\n",
       "      outcome  surgical_lesion lesion_1 lesion_2  lesion_3  cp_data  \n",
       "0        died               no    11300        0         0       no  \n",
       "1  euthanized               no     2208        0         0       no  \n",
       "2       lived               no        0        0         0      yes  \n",
       "3        died              yes     2208        0         0      yes  \n",
       "4        died               no     4300        0         0       no  \n",
       "\n",
       "[5 rows x 28 columns]"
      ]
     },
     "execution_count": 10,
     "metadata": {},
     "output_type": "execute_result"
    }
   ],
   "source": [
    "#now lets view the data and see possible unwanted columns for the analysis and drop them\n",
    "horseDataFrame.head(5)"
   ]
  },
  {
   "cell_type": "code",
   "execution_count": 11,
   "id": "f8e11311",
   "metadata": {},
   "outputs": [],
   "source": [
    "#clearly we dont want the hospital number for our analysis so will proceed to drop it\n",
    "horseDataFrame.drop(columns=['hospital_number'],axis=1,inplace=True)"
   ]
  },
  {
   "cell_type": "code",
   "execution_count": 12,
   "id": "0b5a1883",
   "metadata": {},
   "outputs": [
    {
     "data": {
      "text/plain": [
       "surgery                    0\n",
       "age                        0\n",
       "rectal_temp               60\n",
       "pulse                     24\n",
       "respiratory_rate          58\n",
       "temp_of_extremities       56\n",
       "peripheral_pulse          69\n",
       "mucous_membrane           47\n",
       "capillary_refill_time     32\n",
       "pain                      55\n",
       "peristalsis               44\n",
       "abdominal_distention      56\n",
       "nasogastric_tube         104\n",
       "nasogastric_reflux       106\n",
       "nasogastric_reflux_ph    246\n",
       "rectal_exam_feces        102\n",
       "abdomen                  118\n",
       "packed_cell_volume        29\n",
       "total_protein             33\n",
       "abdomo_appearance        165\n",
       "abdomo_protein           198\n",
       "outcome                    0\n",
       "surgical_lesion            0\n",
       "lesion_1                   0\n",
       "lesion_2                   0\n",
       "lesion_3                   0\n",
       "cp_data                    0\n",
       "dtype: int64"
      ]
     },
     "execution_count": 12,
     "metadata": {},
     "output_type": "execute_result"
    }
   ],
   "source": [
    "#now lets check for the missing values in the dataframe\n",
    "horseDataFrame.isna().sum()"
   ]
  },
  {
   "cell_type": "code",
   "execution_count": 24,
   "id": "7fe51310",
   "metadata": {},
   "outputs": [],
   "source": [
    "#here we will try to fill the missing value's with most-frequent and mean using the imputer\n",
    "\n",
    "numericImputer = SimpleImputer(strategy='mean')\n",
    "categoricalImputer = SimpleImputer(strategy='most_frequent')\n",
    "\n",
    "numeric_features = horseDataFrame.select_dtypes(include=['int64','float64']).columns\n",
    "categorical_features = horseDataFrame.select_dtypes(include=['object']).columns\n",
    "preprocessing = ColumnTransformer( \n",
    "    transformers = [\n",
    "    ('num',numericImputer,numeric_features),\n",
    "    ('cat',categoricalImputer,categorical_features) \n",
    "],\n",
    " remainder='passthrough'  # To keep columns that are not explicitly selected\n",
    ")\n",
    "\n",
    "horseDataframe_transformed = preprocessing.fit_transform(horseDataFrame)\n",
    "\n",
    "horseDataframe_transformed = pd.DataFrame(horseDataframe_transformed,columns=numeric_features.tolist()+categorical_features.tolist())\n",
    "\n",
    "\n",
    "for col in numeric_features:\n",
    "    horseDataframe_transformed[col] = horseDataframe_transformed[col].astype(horseDataFrame[col].dtype)\n",
    "\n",
    "for col in categorical_features:\n",
    "    horseDataframe_transformed[col] = horseDataframe_transformed[col].astype(horseDataFrame[col].dtype)\n",
    "    \n"
   ]
  },
  {
   "cell_type": "code",
   "execution_count": 25,
   "id": "208ecb56",
   "metadata": {},
   "outputs": [
    {
     "data": {
      "text/plain": [
       "rectal_temp              0\n",
       "pulse                    0\n",
       "respiratory_rate         0\n",
       "nasogastric_reflux_ph    0\n",
       "packed_cell_volume       0\n",
       "total_protein            0\n",
       "abdomo_protein           0\n",
       "lesion_1                 0\n",
       "lesion_2                 0\n",
       "lesion_3                 0\n",
       "surgery                  0\n",
       "age                      0\n",
       "temp_of_extremities      0\n",
       "peripheral_pulse         0\n",
       "mucous_membrane          0\n",
       "capillary_refill_time    0\n",
       "pain                     0\n",
       "peristalsis              0\n",
       "abdominal_distention     0\n",
       "nasogastric_tube         0\n",
       "nasogastric_reflux       0\n",
       "rectal_exam_feces        0\n",
       "abdomen                  0\n",
       "abdomo_appearance        0\n",
       "outcome                  0\n",
       "surgical_lesion          0\n",
       "cp_data                  0\n",
       "dtype: int64"
      ]
     },
     "execution_count": 25,
     "metadata": {},
     "output_type": "execute_result"
    }
   ],
   "source": [
    "#validate the missing values\n",
    "horseDataframe_transformed.isna().sum()"
   ]
  },
  {
   "cell_type": "code",
   "execution_count": 26,
   "id": "d18d922a",
   "metadata": {},
   "outputs": [
    {
     "data": {
      "text/plain": [
       "['surgery',\n",
       " 'age',\n",
       " 'temp_of_extremities',\n",
       " 'peripheral_pulse',\n",
       " 'mucous_membrane',\n",
       " 'capillary_refill_time',\n",
       " 'pain',\n",
       " 'peristalsis',\n",
       " 'abdominal_distention',\n",
       " 'nasogastric_tube',\n",
       " 'nasogastric_reflux',\n",
       " 'rectal_exam_feces',\n",
       " 'abdomen',\n",
       " 'abdomo_appearance',\n",
       " 'outcome',\n",
       " 'surgical_lesion',\n",
       " 'cp_data']"
      ]
     },
     "execution_count": 26,
     "metadata": {},
     "output_type": "execute_result"
    }
   ],
   "source": [
    "#now will do lable encoding\n",
    "categorical_features.tolist()"
   ]
  },
  {
   "cell_type": "code",
   "execution_count": 28,
   "id": "c40900cc",
   "metadata": {},
   "outputs": [],
   "source": [
    "le = LabelEncoder()\n",
    "'''\n",
    "here we are encoing all the object type of the data\n",
    "into labelencoded data\n",
    "'''\n",
    "for col in categorical_features:\n",
    "    horseDataframe_transformed[col] = le.fit_transform(horseDataframe_transformed[col])"
   ]
  },
  {
   "cell_type": "code",
   "execution_count": 30,
   "id": "ff8697e1",
   "metadata": {},
   "outputs": [
    {
     "name": "stdout",
     "output_type": "stream",
     "text": [
      "<class 'pandas.core.frame.DataFrame'>\n",
      "RangeIndex: 299 entries, 0 to 298\n",
      "Data columns (total 27 columns):\n",
      " #   Column                 Non-Null Count  Dtype  \n",
      "---  ------                 --------------  -----  \n",
      " 0   rectal_temp            299 non-null    float64\n",
      " 1   pulse                  299 non-null    float64\n",
      " 2   respiratory_rate       299 non-null    float64\n",
      " 3   nasogastric_reflux_ph  299 non-null    float64\n",
      " 4   packed_cell_volume     299 non-null    float64\n",
      " 5   total_protein          299 non-null    float64\n",
      " 6   abdomo_protein         299 non-null    float64\n",
      " 7   lesion_1               299 non-null    int64  \n",
      " 8   lesion_2               299 non-null    int64  \n",
      " 9   lesion_3               299 non-null    int64  \n",
      " 10  surgery                299 non-null    int64  \n",
      " 11  age                    299 non-null    int64  \n",
      " 12  temp_of_extremities    299 non-null    int64  \n",
      " 13  peripheral_pulse       299 non-null    int64  \n",
      " 14  mucous_membrane        299 non-null    int64  \n",
      " 15  capillary_refill_time  299 non-null    int64  \n",
      " 16  pain                   299 non-null    int64  \n",
      " 17  peristalsis            299 non-null    int64  \n",
      " 18  abdominal_distention   299 non-null    int64  \n",
      " 19  nasogastric_tube       299 non-null    int64  \n",
      " 20  nasogastric_reflux     299 non-null    int64  \n",
      " 21  rectal_exam_feces      299 non-null    int64  \n",
      " 22  abdomen                299 non-null    int64  \n",
      " 23  abdomo_appearance      299 non-null    int64  \n",
      " 24  outcome                299 non-null    int64  \n",
      " 25  surgical_lesion        299 non-null    int64  \n",
      " 26  cp_data                299 non-null    int64  \n",
      "dtypes: float64(7), int64(20)\n",
      "memory usage: 63.2 KB\n"
     ]
    }
   ],
   "source": [
    "#check the info of the data now post encoding\n",
    "horseDataframe_transformed.info()\n",
    "#now the data is ready for the machine learning process as all the columns are numeric"
   ]
  },
  {
   "cell_type": "code",
   "execution_count": 31,
   "id": "200856ba",
   "metadata": {},
   "outputs": [],
   "source": [
    "'''\n",
    "now lets split the data into target and feature\n",
    "'''\n",
    "feature = horseDataframe_transformed.drop(columns=['outcome'],axis = 1)\n",
    "target = horseDataframe_transformed['outcome']"
   ]
  },
  {
   "cell_type": "code",
   "execution_count": 39,
   "id": "6f01b4d8",
   "metadata": {},
   "outputs": [],
   "source": [
    "'''\n",
    "now lets split the data into test and train using sklearn model selection\n",
    "'''\n",
    "X_train,X_test,y_train,y_test = train_test_split(feature, target, train_size=0.7,random_state=4)\n"
   ]
  },
  {
   "cell_type": "code",
   "execution_count": 42,
   "id": "e97a191f",
   "metadata": {},
   "outputs": [],
   "source": [
    "'''\n",
    "now lets train DecisionTreeClassifier , here im selecting the criteria as entropy \n",
    "but default will be gini index\n",
    "'''\n",
    "desicion_tree = DecisionTreeClassifier(criterion='entropy')\n",
    "desicion_tree.fit(X_train,y_train)\n",
    "y_pred_train = desicion_tree.predict(X_train)\n",
    "y_pred_test = desicion_tree.predict(X_test)"
   ]
  },
  {
   "cell_type": "code",
   "execution_count": 43,
   "id": "9eac4716",
   "metadata": {},
   "outputs": [
    {
     "data": {
      "text/plain": [
       "(1.0, 0.6555555555555556)"
      ]
     },
     "execution_count": 43,
     "metadata": {},
     "output_type": "execute_result"
    }
   ],
   "source": [
    "train_accuracy = accuracy_score(y_train,y_pred_train)\n",
    "test_accuracy = accuracy_score(y_test,y_pred_test)\n",
    "train_accuracy,test_accuracy"
   ]
  },
  {
   "cell_type": "code",
   "execution_count": 79,
   "id": "37ff8ab3",
   "metadata": {},
   "outputs": [
    {
     "data": {
      "text/plain": [
       "(0.69377990430622, 0.6222222222222222)"
      ]
     },
     "execution_count": 79,
     "metadata": {},
     "output_type": "execute_result"
    }
   ],
   "source": [
    "'''\n",
    "now lets train RandomForestClassifier , here im selecting the criteria as entropy \n",
    "but default will be gini index\n",
    "'''\n",
    "randomForest = RandomForestClassifier(criterion='entropy',max_depth=2,random_state=2,min_samples_split=15)\n",
    "randomForest.fit(X_train,y_train)\n",
    "y_pred_train = randomForest.predict(X_train)\n",
    "y_pred_test = randomForest.predict(X_test)\n",
    "\n",
    "train_accuracy = accuracy_score(y_train,y_pred_train) \n",
    "test_accuracy = accuracy_score(y_test,y_pred_test)\n",
    "train_accuracy,test_accuracy"
   ]
  },
  {
   "cell_type": "code",
   "execution_count": 70,
   "id": "80421d6a",
   "metadata": {},
   "outputs": [
    {
     "data": {
      "text/plain": [
       "array([0.01311703, 0.07911075, 0.0078115 , 0.00696117, 0.18057496,\n",
       "       0.08561815, 0.07612776, 0.17978619, 0.        , 0.        ,\n",
       "       0.02959042, 0.00243512, 0.03042027, 0.01776197, 0.01582552,\n",
       "       0.06197802, 0.03738274, 0.00127196, 0.01759563, 0.00502481,\n",
       "       0.03773061, 0.01431153, 0.00756671, 0.01977237, 0.0681438 ,\n",
       "       0.00408102])"
      ]
     },
     "execution_count": 70,
     "metadata": {},
     "output_type": "execute_result"
    }
   ],
   "source": [
    "'''\n",
    "gives the importance of the feature in descion making\n",
    "'''\n",
    "randomForest.feature_importances_"
   ]
  },
  {
   "cell_type": "code",
   "execution_count": 75,
   "id": "4786f900",
   "metadata": {},
   "outputs": [
    {
     "data": {
      "text/plain": [
       "Index(['total_protein', 'temp_of_extremities', 'surgical_lesion', 'surgery',\n",
       "       'respiratory_rate', 'rectal_temp', 'rectal_exam_feces', 'pulse',\n",
       "       'peristalsis', 'peripheral_pulse', 'pain', 'packed_cell_volume',\n",
       "       'nasogastric_tube', 'nasogastric_reflux_ph', 'nasogastric_reflux',\n",
       "       'mucous_membrane', 'lesion_3', 'lesion_2', 'lesion_1', 'cp_data',\n",
       "       'capillary_refill_time', 'age', 'abdomo_protein', 'abdomo_appearance',\n",
       "       'abdominal_distention', 'abdomen'],\n",
       "      dtype='object')"
      ]
     },
     "execution_count": 75,
     "metadata": {},
     "output_type": "execute_result"
    }
   ],
   "source": [
    "X_train.columns.sort_values(ascending=False)"
   ]
  },
  {
   "cell_type": "code",
   "execution_count": null,
   "id": "6772f8c7",
   "metadata": {},
   "outputs": [],
   "source": []
  }
 ],
 "metadata": {
  "kernelspec": {
   "display_name": "Python 3 (ipykernel)",
   "language": "python",
   "name": "python3"
  },
  "language_info": {
   "codemirror_mode": {
    "name": "ipython",
    "version": 3
   },
   "file_extension": ".py",
   "mimetype": "text/x-python",
   "name": "python",
   "nbconvert_exporter": "python",
   "pygments_lexer": "ipython3",
   "version": "3.9.13"
  }
 },
 "nbformat": 4,
 "nbformat_minor": 5
}
